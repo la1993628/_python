{
 "cells": [
  {
   "cell_type": "code",
   "execution_count": 10,
   "metadata": {},
   "outputs": [
    {
     "data": {
      "text/plain": [
       "{'AAPL': 191.88, 'GOOG': 1186.96, 'IBM': 149.24, 'ACN': 166.89, 'FB': 208.09}"
      ]
     },
     "execution_count": 10,
     "metadata": {},
     "output_type": "execute_result"
    }
   ],
   "source": [
    "prices = {\n",
    "    'AAPL': 191.88,\n",
    "    'GOOG': 1186.96,\n",
    "    'IBM': 149.24,\n",
    "    'ORCL': 48.44,\n",
    "    'ACN': 166.89,\n",
    "    'FB': 208.09,\n",
    "    'SYMC': 21.29\n",
    "}\n",
    "#prices2 = {'A':1}\n",
    "#prices2\n",
    "#prices.items()\n",
    "prices2 = {key: value for key, value in prices.items() if value > 100}\n",
    "prices2"
   ]
  },
  {
   "cell_type": "code",
   "execution_count": 15,
   "metadata": {},
   "outputs": [
    {
     "data": {
      "text/plain": [
       "[1, 3, 4, 6, 7, 7, 8, 9, 10]"
      ]
     },
     "execution_count": 15,
     "metadata": {},
     "output_type": "execute_result"
    }
   ],
   "source": [
    "def select_sort(arr):\n",
    "    \"\"\"简单选择排序\"\"\"\n",
    "    arr = arr[:]\n",
    "    comp = lambda x,y: x<y\n",
    "    for i in range(0, len(arr)-1):\n",
    "        arr_min = arr[i]\n",
    "        for j in range(i+1, len(arr)):\n",
    "            if comp(arr[j], arr[i]):\n",
    "                arr[j], arr[i] = arr[i], arr[j]\n",
    "    return arr\n",
    "                \n",
    "\n",
    "a = [3,6,8,9,1,10,7,4,7]\n",
    "select_sort(a)"
   ]
  },
  {
   "cell_type": "code",
   "execution_count": 18,
   "metadata": {},
   "outputs": [
    {
     "data": {
      "text/plain": [
       "[1, 3, 4, 6, 7, 7, 8, 9, 10]"
      ]
     },
     "execution_count": 18,
     "metadata": {},
     "output_type": "execute_result"
    }
   ],
   "source": [
    "def bubbel_sort(arr, comp=lambda x, y: x > y):\n",
    "    \"\"\"冒泡排序\"\"\"\n",
    "    arr = arr[:]\n",
    "    for i in range(len(arr) - 1):\n",
    "        for j in range(len(arr)-i-1):\n",
    "            if comp(arr[j], arr[j+1]):\n",
    "                arr[j], arr[j+1] = arr[j+1], arr[j]\n",
    "    return arr\n",
    "bubbel_sort(a)"
   ]
  },
  {
   "cell_type": "code",
   "execution_count": 29,
   "metadata": {},
   "outputs": [
    {
     "name": "stdout",
     "output_type": "stream",
     "text": [
      "[3, 6, 8, 9, 1, 10, 7, 4, 7]\n"
     ]
    },
    {
     "data": {
      "text/plain": [
       "[3, 6, 8, 9]"
      ]
     },
     "execution_count": 29,
     "metadata": {},
     "output_type": "execute_result"
    }
   ],
   "source": [
    "def merge_sort(arr):\n",
    "    comp=lambda x,y: x < y\n",
    "    left = []\n",
    "    right = []\n",
    "    if len(arr) < 2:\n",
    "        return arr\n",
    "    else:\n",
    "        mid = len(arr) // 2\n",
    "        for i in range(mid):\n",
    "            if comp(arr[i],arr[mid]):\n",
    "                left.append(arr[i])\n",
    "            else:\n",
    "                right.append(arr[i])\n",
    "        return left + right\n",
    "print(a)\n",
    "merge_sort(a)"
   ]
  },
  {
   "cell_type": "code",
   "execution_count": 44,
   "metadata": {},
   "outputs": [
    {
     "name": "stdout",
     "output_type": "stream",
     "text": [
      "[3, 6, 8, 9, 1, 10, 7, 4, 7]\n"
     ]
    },
    {
     "data": {
      "text/plain": [
       "[1, 3, 4, 6, 7, 7, 8, 9, 10]"
      ]
     },
     "execution_count": 44,
     "metadata": {},
     "output_type": "execute_result"
    }
   ],
   "source": [
    "def quick_sort(arr):\n",
    "    arr = arr[:]\n",
    "    less = []\n",
    "    greater =[]\n",
    "    if len(arr) < 2:\n",
    "        return arr\n",
    "    else:\n",
    "        p = arr[0]\n",
    "        for i in range(1,len(arr)):       \n",
    "            if arr[i] <= p:\n",
    "                less.append(arr[i]) \n",
    "            else:\n",
    "                greater.append(arr[i])\n",
    " #       less = [i for i in arr[1:] if i <= p]\n",
    " #       greater = [i for i in arr[1:] if i > p]\n",
    "        return quick_sort(less) + [p] + quick_sort(greater)\n",
    "print(a)\n",
    "quick_sort(a)    "
   ]
  }
 ],
 "metadata": {
  "kernelspec": {
   "display_name": "Python 3",
   "language": "python",
   "name": "python3"
  },
  "language_info": {
   "codemirror_mode": {
    "name": "ipython",
    "version": 3
   },
   "file_extension": ".py",
   "mimetype": "text/x-python",
   "name": "python",
   "nbconvert_exporter": "python",
   "pygments_lexer": "ipython3",
   "version": "3.8.5"
  }
 },
 "nbformat": 4,
 "nbformat_minor": 4
}
